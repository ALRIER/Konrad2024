{
  "nbformat": 4,
  "nbformat_minor": 0,
  "metadata": {
    "colab": {
      "provenance": [],
      "authorship_tag": "ABX9TyMHA5y/wQTe3d46S2aCxOvX",
      "include_colab_link": true
    },
    "kernelspec": {
      "name": "python3",
      "display_name": "Python 3"
    },
    "language_info": {
      "name": "python"
    }
  },
  "cells": [
    {
      "cell_type": "markdown",
      "metadata": {
        "id": "view-in-github",
        "colab_type": "text"
      },
      "source": [
        "<a href=\"https://colab.research.google.com/github/ALRIER/Konrad2024/blob/Version2/Ejemplo_clase.ipynb\" target=\"_parent\"><img src=\"https://colab.research.google.com/assets/colab-badge.svg\" alt=\"Open In Colab\"/></a>"
      ]
    },
    {
      "cell_type": "code",
      "execution_count": null,
      "metadata": {
        "id": "s0gurYBQ2hKw"
      },
      "outputs": [],
      "source": [
        "gfhgfh"
      ]
    },
    {
      "cell_type": "markdown",
      "source": [
        "fghfghfgh"
      ],
      "metadata": {
        "id": "Lmal8XX82kXg"
      }
    },
    {
      "cell_type": "markdown",
      "source": [
        "fhgfgh"
      ],
      "metadata": {
        "id": "PUv9c6Qb2k_7"
      }
    },
    {
      "cell_type": "code",
      "source": [
        "dhdfb"
      ],
      "metadata": {
        "id": "sTEyb2f-5BLE"
      },
      "execution_count": null,
      "outputs": []
    },
    {
      "cell_type": "markdown",
      "source": [
        "cvbbv"
      ],
      "metadata": {
        "id": "Iks9CfQy5B2p"
      }
    },
    {
      "cell_type": "markdown",
      "source": [
        "cvbcvb"
      ],
      "metadata": {
        "id": "7UQzMoTQ5Cul"
      }
    },
    {
      "cell_type": "code",
      "source": [
        "vnb vbnvbmnv"
      ],
      "metadata": {
        "id": "kYW1f8tm5DwL"
      },
      "execution_count": null,
      "outputs": []
    }
  ]
}